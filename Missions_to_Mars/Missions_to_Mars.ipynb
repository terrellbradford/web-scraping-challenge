{
 "cells": [
  {
   "cell_type": "code",
   "execution_count": 1,
   "source": [
    " # Importing Dependencies\r\n",
    "from splinter import Browser\r\n",
    "from bs4 import BeautifulSoup as bs\r\n",
    "from webdriver_manager.chrome import ChromeDriverManager\r\n",
    "import pandas as pd\r\n",
    "import time as tm"
   ],
   "outputs": [],
   "metadata": {}
  },
  {
   "cell_type": "code",
   "execution_count": 2,
   "source": [
    "executable_path = {'executable_path': ChromeDriverManager().install()}\r\n",
    "browser = Browser('chrome', **executable_path, headless=False)\r\n",
    "\r\n",
    "news_url = \"https://redplanetscience.com/\"\r\n",
    "browser.visit(news_url)\r\n",
    "\r\n",
    "tm.sleep(1)\r\n",
    "\r\n",
    "html = browser.html\r\n",
    "soup = bs(html, \"html.parser\")\r\n",
    "\r\n",
    "news = soup.find('div', class_='list_text')\r\n",
    "\r\n",
    "news_title = news.find(class_='content_title').text\r\n",
    "news_p = news.find(class_='article_teaser_body').text"
   ],
   "outputs": [
    {
     "output_type": "stream",
     "name": "stderr",
     "text": [
      "\n",
      "\n",
      "====== WebDriver manager ======\n",
      "Current google-chrome version is 92.0.4515\n",
      "Get LATEST driver version for 92.0.4515\n",
      "Driver [C:\\Users\\terre\\.wdm\\drivers\\chromedriver\\win32\\92.0.4515.107\\chromedriver.exe] found in cache\n"
     ]
    }
   ],
   "metadata": {}
  },
  {
   "cell_type": "code",
   "execution_count": 4,
   "source": [
    "executable_path = {'executable_path': ChromeDriverManager().install()}\r\n",
    "browser = Browser('chrome', **executable_path, headless=False)\r\n",
    "\r\n",
    "image_url = \"https://spaceimages-mars.com/\"\r\n",
    "browser.visit(image_url)\r\n",
    "\r\n",
    "tm.sleep(1)\r\n",
    "\r\n",
    "html = browser.html\r\n",
    "soup = bs(html, \"html.parser\")\r\n",
    "\r\n",
    "featured = soup.find('img', class_='headerimage fade-in')['src']\r\n",
    "\r\n",
    "browser.quit()\r\n",
    "\r\n",
    "featured_image_url = image_url + featured"
   ],
   "outputs": [
    {
     "output_type": "stream",
     "name": "stderr",
     "text": [
      "\n",
      "\n",
      "====== WebDriver manager ======\n",
      "Current google-chrome version is 92.0.4515\n",
      "Get LATEST driver version for 92.0.4515\n",
      "Driver [C:\\Users\\terre\\.wdm\\drivers\\chromedriver\\win32\\92.0.4515.107\\chromedriver.exe] found in cache\n"
     ]
    }
   ],
   "metadata": {}
  },
  {
   "cell_type": "code",
   "execution_count": 6,
   "source": [
    " # Creating Mars Data Table\r\n",
    "# URL Path to Mars Facts\r\n",
    "\r\n",
    "facts_url = \"https://galaxyfacts-mars.com/\"\r\n",
    "\r\n",
    "table = pd.read_html(facts_url)\r\n",
    "\r\n",
    "df = table[1]\r\n",
    "header = df.iloc[0]\r\n",
    "facts_df = df[1:]\r\n",
    "facts_df.columns = header\r\n",
    "\r\n",
    "facts = facts_df.to_html()\r\n",
    "facts"
   ],
   "outputs": [
    {
     "output_type": "execute_result",
     "data": {
      "text/plain": [
       "'<table border=\"1\" class=\"dataframe\">\\n  <thead>\\n    <tr style=\"text-align: right;\">\\n      <th></th>\\n      <th>Mars - Earth Comparison</th>\\n      <th>Mars</th>\\n      <th>Earth</th>\\n    </tr>\\n  </thead>\\n  <tbody>\\n    <tr>\\n      <th>1</th>\\n      <td>Diameter:</td>\\n      <td>6,779 km</td>\\n      <td>12,742 km</td>\\n    </tr>\\n    <tr>\\n      <th>2</th>\\n      <td>Mass:</td>\\n      <td>6.39 × 10^23 kg</td>\\n      <td>5.97 × 10^24 kg</td>\\n    </tr>\\n    <tr>\\n      <th>3</th>\\n      <td>Moons:</td>\\n      <td>2</td>\\n      <td>1</td>\\n    </tr>\\n    <tr>\\n      <th>4</th>\\n      <td>Distance from Sun:</td>\\n      <td>227,943,824 km</td>\\n      <td>149,598,262 km</td>\\n    </tr>\\n    <tr>\\n      <th>5</th>\\n      <td>Length of Year:</td>\\n      <td>687 Earth days</td>\\n      <td>365.24 days</td>\\n    </tr>\\n    <tr>\\n      <th>6</th>\\n      <td>Temperature:</td>\\n      <td>-87 to -5 °C</td>\\n      <td>-88 to 58°C</td>\\n    </tr>\\n  </tbody>\\n</table>'"
      ]
     },
     "metadata": {},
     "execution_count": 6
    }
   ],
   "metadata": {}
  },
  {
   "cell_type": "code",
   "execution_count": 9,
   "source": [
    "# URL Path to USGS Home Page\r\n",
    "hemi_url = 'https://marshemispheres.com/'\r\n",
    "browser.visit(hemi_url)\r\n",
    "\r\n",
    "# Creating Dictionary of hemisphere_image_urls\r\n",
    "hemisphere_image_urls = []\r\n",
    "\r\n",
    "# For Loop Grab the Title and Image Path\r\n",
    "for x in range(0, 4):\r\n",
    "\r\n",
    "    html = browser.html\r\n",
    "    soup = bs(html, \"html.parser\")\r\n",
    "\r\n",
    "    hemi_links = browser.links.find_by_partial_text('Hemisphere Enhanced')\r\n",
    "\r\n",
    "    hemi_links[x].click()\r\n",
    "\r\n",
    "    html = browser.html\r\n",
    "    soup = bs(html, \"html.parser\")\r\n",
    "\r\n",
    "    tm.sleep(1)\r\n",
    "\r\n",
    "    hemi_image = soup.find('img', class_='wide-image')['src']\r\n",
    "    img_title_clean = soup.find('h2', class_='title').text.strip('Enhanced').rstrip()\r\n",
    "\r\n",
    "    img_url = hemi_url + hemi_image\r\n",
    "\r\n",
    "    # Appending Dictionary to List\r\n",
    "    hemisphere_image_urls.append({\"Title\": img_title_clean, \"img_url\": img_url})\r\n",
    "\r\n",
    "    browser.links.find_by_partial_text('Back').click()\r\n",
    "\r\n",
    "    tm.sleep(1)\r\n",
    "\r\n",
    "browser.quit()"
   ],
   "outputs": [],
   "metadata": {}
  },
  {
   "cell_type": "code",
   "execution_count": 11,
   "source": [
    "mars_data = {\r\n",
    "    \"news_title\": news_title,\r\n",
    "    \"news_p\": news_p,\r\n",
    "    \"hemisphere_image_urls\": hemisphere_image_urls\r\n",
    "}"
   ],
   "outputs": [],
   "metadata": {}
  }
 ],
 "metadata": {
  "orig_nbformat": 4,
  "language_info": {
   "name": "python",
   "version": "3.6.10",
   "mimetype": "text/x-python",
   "codemirror_mode": {
    "name": "ipython",
    "version": 3
   },
   "pygments_lexer": "ipython3",
   "nbconvert_exporter": "python",
   "file_extension": ".py"
  },
  "kernelspec": {
   "name": "python3",
   "display_name": "Python 3.6.10 64-bit ('PythonData': conda)"
  },
  "interpreter": {
   "hash": "62bb34d63c24be0a0ab897fb5f46a4d7d45009535ba030eb5ffeb658607c367a"
  }
 },
 "nbformat": 4,
 "nbformat_minor": 2
}